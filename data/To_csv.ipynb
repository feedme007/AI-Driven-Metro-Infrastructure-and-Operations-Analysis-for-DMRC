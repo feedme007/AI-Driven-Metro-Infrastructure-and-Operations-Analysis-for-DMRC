{
 "cells": [
  {
   "cell_type": "markdown",
   "id": "8c5273c8-75c8-44bd-9031-b2ca984a9069",
   "metadata": {},
   "source": [
    "### geojson to csv"
   ]
  },
  {
   "cell_type": "code",
   "execution_count": 9,
   "id": "322245ef-5238-4720-bd78-e80fadb56143",
   "metadata": {},
   "outputs": [
    {
     "name": "stdout",
     "output_type": "stream",
     "text": [
      "GeoJSON has been converted to CSV and saved.\n"
     ]
    }
   ],
   "source": [
    "import geopandas as gpd\n",
    "import pandas as pd\n",
    "\n",
    "# Load GeoJSON file into a GeoDataFrame\n",
    "gdf = gpd.read_file('Line_2/geojson/TTC - 2 LINE 2 (BLOOR - DANFORTH) - Stops.geojson')\n",
    "\n",
    "# Convert GeoDataFrame to DataFrame\n",
    "df = pd.DataFrame(gdf.drop(columns='geometry'))  # Drop the geometry column if you don't need it\n",
    "\n",
    "# If you want to keep latitude and longitude\n",
    "df['latitude'] = gdf.geometry.y\n",
    "df['longitude'] = gdf.geometry.x\n",
    "\n",
    "# Save the DataFrame to CSV\n",
    "df.to_csv('Line_2/csv/stops.csv', index=False)\n",
    "\n",
    "print(\"GeoJSON has been converted to CSV and saved.\")"
   ]
  },
  {
   "cell_type": "code",
   "execution_count": null,
   "id": "b3ffbf71-30bf-4802-8eef-3dcc625c9643",
   "metadata": {},
   "outputs": [],
   "source": []
  },
  {
   "cell_type": "markdown",
   "id": "5844cf7a-ced0-4535-a020-65eb3f272542",
   "metadata": {},
   "source": [
    "### txt to csv"
   ]
  },
  {
   "cell_type": "code",
   "execution_count": 3,
   "id": "6c4a98f3-3202-4d62-b128-83f9fcb36841",
   "metadata": {},
   "outputs": [
    {
     "name": "stdout",
     "output_type": "stream",
     "text": [
      "Conversion complete! The CSV file is saved as DMRC_GTFS/csv/trips.csv.\n"
     ]
    }
   ],
   "source": [
    "import csv\n",
    "\n",
    "# Specify the input and output file paths\n",
    "input_file_path = 'DMRC_GTFS/txt/trips.txt'\n",
    "output_file_path = 'DMRC_GTFS/csv/trips.csv'\n",
    "\n",
    "# Open the input text file and output CSV file\n",
    "with open(input_file_path, 'r') as txt_file, open(output_file_path, 'w', newline='') as csv_file:\n",
    "    # Create a CSV writer object\n",
    "    csv_writer = csv.writer(csv_file)\n",
    "\n",
    "    # Iterate over each line in the text file\n",
    "    for line in txt_file:\n",
    "        # Split the line by comma to get the values\n",
    "        values = line.strip().split(',')\n",
    "        # Write the values as a row in the CSV file\n",
    "        csv_writer.writerow(values)\n",
    "\n",
    "print(f\"Conversion complete! The CSV file is saved as {output_file_path}.\")"
   ]
  },
  {
   "cell_type": "code",
   "execution_count": null,
   "id": "4d163484-a3e6-4fb9-a369-907f869572f7",
   "metadata": {},
   "outputs": [],
   "source": []
  },
  {
   "cell_type": "code",
   "execution_count": null,
   "id": "ad01b15c-8ecc-4fc9-a7ef-06d56f8ba7fd",
   "metadata": {},
   "outputs": [],
   "source": []
  }
 ],
 "metadata": {
  "kernelspec": {
   "display_name": "Python 3 (ipykernel)",
   "language": "python",
   "name": "python3"
  },
  "language_info": {
   "codemirror_mode": {
    "name": "ipython",
    "version": 3
   },
   "file_extension": ".py",
   "mimetype": "text/x-python",
   "name": "python",
   "nbconvert_exporter": "python",
   "pygments_lexer": "ipython3",
   "version": "3.11.2"
  }
 },
 "nbformat": 4,
 "nbformat_minor": 5
}
